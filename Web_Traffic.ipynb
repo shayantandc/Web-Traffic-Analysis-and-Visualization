{
 "cells": [
  {
   "cell_type": "code",
   "execution_count": 1,
   "metadata": {},
   "outputs": [],
   "source": [
    "# Create Pyspark Session\n",
    "from pyspark.sql import SparkSession\n",
    "\n",
    "spark = SparkSession.builder \\\n",
    "    .appName(\"Web_Traffic\") \\\n",
    "    .getOrCreate()"
   ]
  },
  {
   "cell_type": "code",
   "execution_count": 23,
   "metadata": {},
   "outputs": [
    {
     "name": "stdout",
     "output_type": "stream",
     "text": [
      "1 CSV(s) detected.\n",
      "Dataframe df1:\n",
      "+----------+------+----------------------+-------------------+-----------+------------------------+---------------+----------------+-----------------------------+--------------------+-----------------+----------------+----------------+----------------------+------------------+--------------------+--------------------+--------------------+------------------------------+------------------+-----------------+-----------------+---------------+-----------------+-------------------------+\n",
      "|      Date|Visits|Ad spends(in Hundreds)|Total Pages visited|Bounce Rate|Average Session Duration|Longest Session|Shortest Session|Percentage of Return Visitors|Most Visited country|Highest Load Time|Lowest Load Time|Total Page Loads|Total Sessions Created|Number of Sign Ups|    Ratings Received|    Reviews Received|   Page Most visited|Top most searched related word|Visited by Desktop|Visited by Mobile|Visited by Chrome|Visited by Edge|Visited by Safari|Visited by Other Browsers|\n",
      "+----------+------+----------------------+-------------------+-----------+------------------------+---------------+----------------+-----------------------------+--------------------+-----------------+----------------+----------------+----------------------+------------------+--------------------+--------------------+--------------------+------------------------------+------------------+-----------------+-----------------+---------------+-----------------+-------------------------+\n",
      "|01/01/2024|  7431|               6000.00|              15427|       27.8|               12:45:350|      25:12:150|       05:03:200|                         17.9|<countries><count...|               28|               5|           15000|                  6000|               250|<ratings><rating>...|<reviews><review>...|<pages><page>Tech...|          <words><word>Hell...|              40.0|             60.0|             45.0|           20.0|             25.0|                     10.0|\n",
      "|02/01/2024|  6985|               5200.00|              18523|       21.5|               09:35:250|      22:44:100|       04:17:300|                         22.1|<countries><count...|               25|               4|           20000|                  8000|               150|<ratings><rating>...|<reviews><review>...|<pages><page>Tech...|          <words><word>Helo...|              50.0|             50.0|             30.0|           40.0|             20.0|                     10.0|\n",
      "|03/01/2024|  7123|               5300.00|              19241|       15.9|               10:21:200|      21:55:300|       05:55:100|                         19.6|<countries><count...|               30|               6|           18000|                  7200|               200|<ratings><rating>...|<reviews><review>...|<pages><page>Tech...|          <words><word>Hell...|              60.0|             40.0|             35.0|           25.0|             20.0|                     20.0|\n",
      "|04/01/2024|  7654|               5800.00|              20315|       31.2|               14:10:150|      30:22:050|       04:45:350|                         23.4|<countries><count...|               29|               6|           25000|                 10000|               100|<ratings><rating>...|<reviews><review>...|<pages><page>Tech...|          <words><word>Heel...|              45.0|             55.0|             40.0|           15.0|             30.0|                     15.0|\n",
      "|05/01/2024|  7198|               5400.00|              21658|       26.4|               12:05:300|      26:11:100|       05:34:250|                         20.7|<countries><count...|               28|               5|           20000|                  8000|                75|<ratings><rating>...|<reviews><review>...|<pages><page>Tech...|          <words><word>Hell...|              55.0|             45.0|             20.0|           35.0|             25.0|                     20.0|\n",
      "|06/01/2024|  7321|               5500.00|              22350|       18.7|               10:55:100|      24:30:200|       04:56:150|                         21.3|<countries><count...|               26|               5|           22000|                  8800|                50|<ratings><rating>...|<reviews><review>...|<pages><page>Tech...|          <words><word>Hell...|              40.0|             60.0|             30.0|           20.0|             25.0|                     25.0|\n",
      "|07/01/2024|  6998|               5200.00|              23100|       22.3|               11:34:250|      23:40:150|       05:10:300|                         18.9|<countries><count...|               27|               5|           18000|                  7200|                20|<ratings><rating>...|<reviews><review>...|<pages><page>Tech...|          <words><word>Heel...|              35.0|             65.0|             20.0|           40.0|             25.0|                     15.0|\n",
      "+----------+------+----------------------+-------------------+-----------+------------------------+---------------+----------------+-----------------------------+--------------------+-----------------+----------------+----------------+----------------------+------------------+--------------------+--------------------+--------------------+------------------------------+------------------+-----------------+-----------------+---------------+-----------------+-------------------------+\n",
      "\n"
     ]
    }
   ],
   "source": [
    "import os\n",
    "\n",
    "# Directory path where CSV files are located\n",
    "directory_path = \"C:\\\\Projects\\\\Web_Traffic\"\n",
    "\n",
    "# Get the list of CSV files in the directory\n",
    "csv_files = [file for file in os.listdir(directory_path) if file.endswith('.csv')]\n",
    "\n",
    "# Display how many CSV files are detected\n",
    "num_csvs = len(csv_files)\n",
    "print(f\"{num_csvs} CSV(s) detected.\")\n",
    "\n",
    "# Read each CSV file and assign it to variables dynamically\n",
    "dfs = []\n",
    "for i, csv_file in enumerate(csv_files, start=1):\n",
    "    df_name = f\"df{i}\"\n",
    "    df = spark.read.option(\"header\", \"true\").csv(os.path.join(directory_path, csv_file))\n",
    "    globals()[df_name] = df\n",
    "    dfs.append(df)\n",
    "\n",
    "# Example usage\n",
    "for i, df in enumerate(dfs, start=1):\n",
    "    print(f\"Dataframe df{i}:\")\n",
    "    df.show()"
   ]
  },
  {
   "cell_type": "code",
   "execution_count": 26,
   "metadata": {},
   "outputs": [
    {
     "name": "stdout",
     "output_type": "stream",
     "text": [
      "Cleaning DF done\n",
      "+----------+------+-------------------+-----------+------------------------+---------------+----------------+-----------------------------+--------------------+-----------------+----------------+----------------+----------------------+------------------+--------------------+--------------------+--------------------+------------------------------+------------------+-----------------+-----------------+---------------+-----------------+-------------------------+---------+\n",
      "|      Date|Visits|Total Pages visited|Bounce Rate|Average Session Duration|Longest Session|Shortest Session|Percentage of Return Visitors|Most Visited country|Highest Load Time|Lowest Load Time|Total Page Loads|Total Sessions Created|Number of Sign Ups|    Ratings Received|    Reviews Received|   Page Most visited|Top most searched related word|Visited by Desktop|Visited by Mobile|Visited by Chrome|Visited by Edge|Visited by Safari|Visited by Other Browsers|Ad spends|\n",
      "+----------+------+-------------------+-----------+------------------------+---------------+----------------+-----------------------------+--------------------+-----------------+----------------+----------------+----------------------+------------------+--------------------+--------------------+--------------------+------------------------------+------------------+-----------------+-----------------+---------------+-----------------+-------------------------+---------+\n",
      "|01/01/2024|  7431|              15427|       27.8|                12:45:35|       25:12:15|        05:03:20|                         17.9|<countries><count...|             28.0|             5.0|           15000|                  6000|               250|<ratings><rating>...|<reviews><review>...|<pages><page>Tech...|          <words><word>Hell...|              40.0|             60.0|             45.0|           20.0|             25.0|                     10.0| 600000.0|\n",
      "|02/01/2024|  6985|              18523|       21.5|                09:35:25|       22:44:10|        04:17:30|                         22.1|<countries><count...|             25.0|             4.0|           20000|                  8000|               150|<ratings><rating>...|<reviews><review>...|<pages><page>Tech...|          <words><word>Helo...|              50.0|             50.0|             30.0|           40.0|             20.0|                     10.0| 520000.0|\n",
      "|03/01/2024|  7123|              19241|       15.9|                10:21:20|       21:55:30|        05:55:10|                         19.6|<countries><count...|             30.0|             6.0|           18000|                  7200|               200|<ratings><rating>...|<reviews><review>...|<pages><page>Tech...|          <words><word>Hell...|              60.0|             40.0|             35.0|           25.0|             20.0|                     20.0| 530000.0|\n",
      "|04/01/2024|  7654|              20315|       31.2|                14:10:15|       30:22:05|        04:45:35|                         23.4|<countries><count...|             29.0|             6.0|           25000|                 10000|               100|<ratings><rating>...|<reviews><review>...|<pages><page>Tech...|          <words><word>Heel...|              45.0|             55.0|             40.0|           15.0|             30.0|                     15.0| 580000.0|\n",
      "|05/01/2024|  7198|              21658|       26.4|                12:05:30|       26:11:10|        05:34:25|                         20.7|<countries><count...|             28.0|             5.0|           20000|                  8000|                75|<ratings><rating>...|<reviews><review>...|<pages><page>Tech...|          <words><word>Hell...|              55.0|             45.0|             20.0|           35.0|             25.0|                     20.0| 540000.0|\n",
      "|06/01/2024|  7321|              22350|       18.7|                10:55:10|       24:30:20|        04:56:15|                         21.3|<countries><count...|             26.0|             5.0|           22000|                  8800|                50|<ratings><rating>...|<reviews><review>...|<pages><page>Tech...|          <words><word>Hell...|              40.0|             60.0|             30.0|           20.0|             25.0|                     25.0| 550000.0|\n",
      "|07/01/2024|  6998|              23100|       22.3|                11:34:25|       23:40:15|        05:10:30|                         18.9|<countries><count...|             27.0|             5.0|           18000|                  7200|                20|<ratings><rating>...|<reviews><review>...|<pages><page>Tech...|          <words><word>Heel...|              35.0|             65.0|             20.0|           40.0|             25.0|                     15.0| 520000.0|\n",
      "+----------+------+-------------------+-----------+------------------------+---------------+----------------+-----------------------------+--------------------+-----------------+----------------+----------------+----------------------+------------------+--------------------+--------------------+--------------------+------------------------------+------------------+-----------------+-----------------+---------------+-----------------+-------------------------+---------+\n",
      "\n"
     ]
    }
   ],
   "source": [
    "from pyspark.sql.functions import *\n",
    "\n",
    "def clean_dataframe(df):\n",
    "    df = df.withColumn(\"Date\", date_format(to_date(df[\"Date\"], \"dd/MM/yyyy\"), \"dd/MM/yyyy\"))\n",
    "    df = df.withColumn(\"Visits\", df[\"Visits\"].cast(\"int\"))\n",
    "    df = df.withColumn(\"Ad spends\", (col(\"Ad spends(in Hundreds)\") * 100).cast(\"double\")).drop(\"Ad spends(in Hundreds)\")\n",
    "    df = df.withColumn(\"Total Pages visited\", df[\"Total Pages visited\"].cast(\"int\"))\n",
    "    df = df.withColumn(\"Bounce Rate\", df[\"Bounce Rate\"].cast(\"double\"))\n",
    "    df = df.withColumn(\"Average Session Duration\", substring(df[\"Average Session Duration\"], 1, 8))\n",
    "    df = df.withColumn(\"Longest Session\", substring(df[\"Longest Session\"], 1, 8))\n",
    "    df = df.withColumn(\"Shortest Session\", substring(df[\"Shortest Session\"], 1, 8))\n",
    "    df = df.withColumn(\"Percentage of Return Visitors\", df[\"Percentage of Return Visitors\"].cast(\"double\"))\n",
    "    df = df.withColumn(\"Highest Load Time\", df[\"Highest Load Time\"].cast(\"double\"))\n",
    "    df = df.withColumn(\"Lowest Load Time\", df[\"Lowest Load Time\"].cast(\"double\"))\n",
    "    df = df.withColumn(\"Total Page Loads\", df[\"Total Page Loads\"].cast(\"int\"))\n",
    "    df = df.withColumn(\"Total Sessions Created\", df[\"Total Sessions Created\"].cast(\"int\"))\n",
    "    df = df.withColumn(\"Number of Sign Ups\", df[\"Number of Sign Ups\"].cast(\"int\"))\n",
    "\n",
    "    df = df.fillna(\"Unknown\", subset=[\"Most Visited country\", \"Page Most visited\", \"Top most searched related word\"])\n",
    "    df = df.fillna(0, subset=[\"Visits\", \"Ad spends\", \"Total Pages visited\", \"Bounce Rate\",\n",
    "                              \"Percentage of Return Visitors\", \"Highest Load Time\", \"Lowest Load Time\",\n",
    "                              \"Total Page Loads\", \"Total Sessions Created\", \"Number of Sign Ups\",\n",
    "                              \"Ratings Received\", \"Reviews Received\"])\n",
    "\n",
    "    print('Cleaning DF done')\n",
    "    return df\n",
    "\n",
    "for i, csv_file in enumerate(csv_files, start=1):\n",
    "    df = clean_dataframe(df)\n",
    "\n",
    "df.show()\n"
   ]
  },
  {
   "cell_type": "code",
   "execution_count": 27,
   "metadata": {},
   "outputs": [
    {
     "name": "stdout",
     "output_type": "stream",
     "text": [
      "Average Visits: 7244.0\n",
      "Total Visits: 50710\n",
      "Total Ad Spends: 3840000.0\n",
      "Average Bounce Rate: 23.4\n",
      "Cost per Visit: 75.72470913034904\n",
      "Average Visited through Desktop: 46\n",
      "Average Visited through Mobile: 54\n",
      "Ratio of Visits to Percentage of Return Visitors: 7244.0 : 2055.714285714286\n",
      "Average Session Duration: 11:37:880\n"
     ]
    }
   ],
   "source": [
    "from pyspark.sql.functions import *\n",
    "import math\n",
    "\n",
    "# Average Visits\n",
    "avg_visits = df.select(bround(avg(\"Visits\"))).collect()[0][0]\n",
    "\n",
    "# Total Visits\n",
    "total_visits = df.select(sum(col(\"Visits\"))).collect()[0][0]\n",
    "\n",
    "# Total Ad Spends\n",
    "total_ad_spends = df.select(sum(col(\"Ad spends\"))).collect()[0][0]\n",
    "\n",
    "# Average Bounce Rate\n",
    "avg_bounce_rate = df.select(round(avg(\"Bounce Rate\"), 2)).collect()[0][0]\n",
    "\n",
    "# Cost per Visit\n",
    "cost_per_visit = total_ad_spends / total_visits\n",
    "\n",
    "# Device Usage Distribution\n",
    "average_desktop = df.select(avg(\"Visited by Desktop\")).collect()[0][0]\n",
    "average_mobile = df.select(avg(\"Visited by Mobile\")).collect()[0][0]\n",
    "if average_desktop % 1 >= 0.5:\n",
    "    average_desktop = math.ceil(average_desktop)\n",
    "else:\n",
    "    average_desktop = math.floor(average_desktop)\n",
    "\n",
    "if average_mobile % 1 >= 0.5:\n",
    "    average_mobile = math.ceil(average_mobile)\n",
    "else:\n",
    "    average_mobile = math.floor(average_mobile)\n",
    "\n",
    "# Ratio of Visits to Percentage of Return Visitors\n",
    "\n",
    "return_visitors = df.select(sum(col(\"Percentage of Return Visitors\"))).collect()[0][0]\n",
    "percentage_return_visitors = (return_visitors / df.count()) * 100\n",
    "ratio_visits_to_return_visitors = avg_visits / percentage_return_visitors\n",
    "\n",
    "# Average Session Duration (assuming duration is in minutes:seconds:milliseconds)\n",
    "# Convert \"Average Session Duration\" from HH:MM:SS to milliseconds\n",
    "duration_milliseconds = (df[\"Average Session Duration\"].substr(1, 2).cast(\"int\") * 60 * 1000) + \\\n",
    "                        (df[\"Average Session Duration\"].substr(4, 2).cast(\"int\") * 1000) + \\\n",
    "                        (df[\"Average Session Duration\"].substr(7, 2).cast(\"int\") )\n",
    "\n",
    "# Calculate the average session duration in milliseconds\n",
    "avg_session_duration_milliseconds = df.select(avg(duration_milliseconds)).collect()[0][0]\n",
    "\n",
    "# Convert the average session duration back to HH:MM:SS format\n",
    "avg_session_duration_seconds = avg_session_duration_milliseconds // 1000\n",
    "avg_session_duration_minutes = avg_session_duration_seconds // 60\n",
    "avg_session_duration_seconds_remaining = avg_session_duration_seconds % 60\n",
    "avg_session_duration_milliseconds_remaining = avg_session_duration_milliseconds % 1000\n",
    "avg_session_duration = f\"{int(avg_session_duration_minutes):02}:{int(avg_session_duration_seconds_remaining):02}:{int(avg_session_duration_milliseconds_remaining):03}\"\n",
    "\n",
    "\n",
    "#Result Outputs\n",
    "print(\"Average Visits:\", avg_visits)\n",
    "print(\"Total Visits:\", total_visits)\n",
    "print(\"Total Ad Spends:\", total_ad_spends)\n",
    "print(\"Average Bounce Rate:\", avg_bounce_rate)\n",
    "print(\"Cost per Visit:\", cost_per_visit)\n",
    "print(\"Average Visited through Desktop:\", average_desktop)\n",
    "print(\"Average Visited through Mobile:\", average_mobile)\n",
    "print(\"Ratio of Visits to Percentage of Return Visitors:\", avg_visits, \":\", percentage_return_visitors)\n",
    "print(\"Average Session Duration:\", avg_session_duration)"
   ]
  }
 ],
 "metadata": {
  "kernelspec": {
   "display_name": "Python 3",
   "language": "python",
   "name": "python3"
  },
  "language_info": {
   "codemirror_mode": {
    "name": "ipython",
    "version": 3
   },
   "file_extension": ".py",
   "mimetype": "text/x-python",
   "name": "python",
   "nbconvert_exporter": "python",
   "pygments_lexer": "ipython3",
   "version": "3.12.3"
  }
 },
 "nbformat": 4,
 "nbformat_minor": 2
}
